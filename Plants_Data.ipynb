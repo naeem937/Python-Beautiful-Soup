{
 "cells": [
  {
   "cell_type": "code",
   "execution_count": 83,
   "metadata": {},
   "outputs": [
    {
     "name": "stdout",
     "output_type": "stream",
     "text": [
      "CommonName :\n",
      "Redbud, Eastern redbud, Mexican redbud,Texas redbud \n",
      "\n",
      "\n",
      "Family :\n",
      "Fabaceae or Leguminosae \n",
      "\n",
      "\n",
      "USDAHardiness :\n",
      "4-9 \n",
      "\n",
      "\n",
      "KnownHazards :\n",
      "The plant is reported to contain a toxic saponin[274]. Although toxic, saponins are poorly absorbed by the body and most pass straight through without any problem. They are also broken down to a large extent in the cooking process. Saponins are found in many foods, such as some beans. Saponins are much more toxic to some creatures, such as fish, and hunting tribes have traditionally put large quantities of them in streams, lakes etc in order to stupefy or kill the fish[K]. \n",
      "\n",
      "\n",
      "Habitats :\n",
      "Rich woods, ravines and borders of streams[43, 82]. It often forms a distinct understorey in woodlands[229]. \n",
      "\n",
      "\n",
      "Range :\n",
      "Eastern and Central N. America - New York to Florida, west to Texas and Wisconsin[222]. \n",
      "\n",
      "\n",
      "WeedPotential :\n",
      "No \n",
      "\n",
      "\n",
      "Summary :\n",
      "Bloom Color: Lavender, Pink, Purple.Main Bloom Time: Early spring, Late spring, Mid spring. Form: Rounded, Vase. \n",
      "\n",
      "\n",
      "PhysicalCharacterstics :\n",
      "Cercis Canadensis is a deciduous Tree growing to 12 m (39ft) by 10 m (32ft) at a medium rate.  It is hardy to zone (UK) 4 and is not frost tender.  It is in flower from May to June, and the seeds ripen in October. The species is hermaphrodite (has both male and female organs) and is pollinated by Bees. It is noted for attracting wildlife.  Suitable for: light (sandy) and medium (loamy) soils and prefers  well-drained soil. Suitable pH: acid, neutral and basic (alkaline) soils and  can grow in very acid and very alkaline soils. It can grow in  semi-shade (light woodland) or no shade. It prefers  moist soil. \n",
      "\n",
      "\n"
     ]
    }
   ],
   "source": [
    "import requests\n",
    "import bs4\n",
    "\n",
    "res = requests.get('https://pfaf.org/user/plant.aspx?LatinName=Cercis+Canadensis')\n",
    "\n",
    "soup = bs4.BeautifulSoup(res.text, 'lxml')\n",
    "\n",
    "data = []\n",
    "\n",
    "keys = ['CommonName','Family','USDAHardiness','KnownHazards','Habitats','Range','WeedPotential', 'Summary', 'PhysicalCharacterstics']\n",
    "\n",
    "data += (soup.select('#ctl00_ContentPlaceHolder1_lblCommanName'))\n",
    "data += (soup.select('#ctl00_ContentPlaceHolder1_lblFamily'))\n",
    "data += (soup.select('#ctl00_ContentPlaceHolder1_lblUSDAhardiness'))\n",
    "data += (soup.select('#ctl00_ContentPlaceHolder1_lblKnownHazards'))\n",
    "data += (soup.select('#ctl00_ContentPlaceHolder1_txtHabitats'))\n",
    "data += (soup.select('#ctl00_ContentPlaceHolder1_lblRange'))\n",
    "data += (soup.select('#ctl00_ContentPlaceHolder1_lblWeedPotential'))\n",
    "data += (soup.select('#ctl00_ContentPlaceHolder1_txtSummary'))\n",
    "data += (soup.select('#ctl00_ContentPlaceHolder1_lblPhystatment'))\n",
    "\n",
    "a = 0\n",
    "\n",
    "for i in data:    \n",
    "    print(keys[a],':')\n",
    "    print(i.getText(), \"\\n\\n\")\n",
    "    a+=1"
   ]
  },
  {
   "cell_type": "code",
   "execution_count": null,
   "metadata": {},
   "outputs": [],
   "source": []
  }
 ],
 "metadata": {
  "kernelspec": {
   "display_name": "Python 3",
   "language": "python",
   "name": "python3"
  },
  "language_info": {
   "codemirror_mode": {
    "name": "ipython",
    "version": 3
   },
   "file_extension": ".py",
   "mimetype": "text/x-python",
   "name": "python",
   "nbconvert_exporter": "python",
   "pygments_lexer": "ipython3",
   "version": "3.7.3"
  }
 },
 "nbformat": 4,
 "nbformat_minor": 2
}
